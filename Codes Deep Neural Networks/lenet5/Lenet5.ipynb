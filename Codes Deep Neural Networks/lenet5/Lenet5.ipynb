{
  "nbformat": 4,
  "nbformat_minor": 0,
  "metadata": {
    "colab": {
      "name": "Lenet5.ipynb",
      "provenance": [],
      "collapsed_sections": []
    },
    "kernelspec": {
      "name": "python3",
      "display_name": "Python 3"
    },
    "language_info": {
      "name": "python"
    }
  },
  "cells": [
    {
      "cell_type": "code",
      "metadata": {
        "colab": {
          "base_uri": "https://localhost:8080/"
        },
        "id": "fXMr_jF_6qo5",
        "outputId": "a289abec-317a-4d53-f227-9cffc039299c"
      },
      "source": [
        "import numpy as np \n",
        "import tensorflow as tf \n",
        "from keras.datasets import mnist \n",
        "from keras.models import Sequential \n",
        "from keras.layers import Dense, Dropout \n",
        "from keras.layers import Conv2D, AveragePooling2D\n",
        "from keras.layers import Flatten \n",
        "from keras.utils  import np_utils \n",
        "\n",
        "#https://data-flair.training/blogs/python-deep-learning-project-handwritten-digit-recognition/\n",
        "(x_train,y_train), (x_test, y_test) = mnist.load_data()\n",
        "\n",
        "x_train = x_train.reshape(x_train.shape[0], 28,28,1)\n",
        "x_test = x_test.reshape(x_test.shape[0],28,28,1)\n",
        "x_train = x_train.astype('float32')\n",
        "x_test = x_test.astype('float32')\n",
        "x_train /=255.0\n",
        "x_test /= 255.0\n",
        "classes = 10\n",
        "y_train = np_utils.to_categorical(y_train,classes)\n",
        "y_test = np_utils.to_categorical(y_test,classes)\n",
        "input_s = (28,28,1)\n",
        "\n",
        "model = Sequential()\n",
        "model.add(Conv2D(filters=6, kernel_size=(3, 3), activation='relu', input_shape=(28,28,1)))\n",
        "model.add(AveragePooling2D())\n",
        "\n",
        "model.add(Conv2D(filters=16, kernel_size=(3, 3), activation='relu'))\n",
        "model.add(AveragePooling2D())\n",
        "model.add(Flatten())\n",
        "model.add(Dense(units=120, activation='relu'))\n",
        "model.add(Dense(units=84, activation='relu'))\n",
        "model.add(Dense(units=10, activation = 'softmax'))\n",
        "model.compile(loss = 'categorical_crossentropy', metrics=['accuracy'], \n",
        "              optimizer = 'adam')\n",
        "\n",
        "model.fit(x_train, y_train, batch_size = 128, epochs = 20, verbose = 1)\n",
        "pred = model.predict(x_test)\n",
        "score = model.evaluate(x_test, y_test, verbose=1)\n",
        "print('Test accuracy:', score[1])\n",
        "y_pre1 = np.argmax(pred, axis = -1)\n",
        "from sklearn.metrics import f1_score\n",
        "y_test  = np.argmax(y_test, axis= -1)\n",
        "print(y_test)\n",
        "print(y_pre1)\n",
        "f1 = f1_score(y_pre1, y_test,average='macro' )\n",
        "print('Test f1 score:',f1)"
      ],
      "execution_count": null,
      "outputs": [
        {
          "output_type": "stream",
          "text": [
            "Epoch 1/20\n",
            "469/469 [==============================] - 17s 36ms/step - loss: 0.7849 - accuracy: 0.7625\n",
            "Epoch 2/20\n",
            "469/469 [==============================] - 17s 36ms/step - loss: 0.1288 - accuracy: 0.9604\n",
            "Epoch 3/20\n",
            "469/469 [==============================] - 17s 36ms/step - loss: 0.0825 - accuracy: 0.9748\n",
            "Epoch 4/20\n",
            "469/469 [==============================] - 17s 36ms/step - loss: 0.0646 - accuracy: 0.9801\n",
            "Epoch 5/20\n",
            "469/469 [==============================] - 17s 36ms/step - loss: 0.0541 - accuracy: 0.9834\n",
            "Epoch 6/20\n",
            "469/469 [==============================] - 17s 36ms/step - loss: 0.0463 - accuracy: 0.9848\n",
            "Epoch 7/20\n",
            "469/469 [==============================] - 17s 36ms/step - loss: 0.0397 - accuracy: 0.9879\n",
            "Epoch 8/20\n",
            "469/469 [==============================] - 17s 36ms/step - loss: 0.0331 - accuracy: 0.9899\n",
            "Epoch 9/20\n",
            "469/469 [==============================] - 17s 36ms/step - loss: 0.0316 - accuracy: 0.9907\n",
            "Epoch 10/20\n",
            "469/469 [==============================] - 17s 36ms/step - loss: 0.0246 - accuracy: 0.9926\n",
            "Epoch 11/20\n",
            "469/469 [==============================] - 17s 36ms/step - loss: 0.0230 - accuracy: 0.9925\n",
            "Epoch 12/20\n",
            "469/469 [==============================] - 17s 36ms/step - loss: 0.0193 - accuracy: 0.9940\n",
            "Epoch 13/20\n",
            "469/469 [==============================] - 17s 37ms/step - loss: 0.0198 - accuracy: 0.9933\n",
            "Epoch 14/20\n",
            "469/469 [==============================] - 17s 36ms/step - loss: 0.0175 - accuracy: 0.9940\n",
            "Epoch 15/20\n",
            "469/469 [==============================] - 17s 37ms/step - loss: 0.0143 - accuracy: 0.9951\n",
            "Epoch 16/20\n",
            "469/469 [==============================] - 17s 37ms/step - loss: 0.0138 - accuracy: 0.9955\n",
            "Epoch 17/20\n",
            "469/469 [==============================] - 17s 36ms/step - loss: 0.0135 - accuracy: 0.9961\n",
            "Epoch 18/20\n",
            "469/469 [==============================] - 17s 36ms/step - loss: 0.0098 - accuracy: 0.9969\n",
            "Epoch 19/20\n",
            "469/469 [==============================] - 17s 36ms/step - loss: 0.0103 - accuracy: 0.9966\n",
            "Epoch 20/20\n",
            "469/469 [==============================] - 17s 36ms/step - loss: 0.0103 - accuracy: 0.9966\n",
            "313/313 [==============================] - 2s 6ms/step - loss: 0.0415 - accuracy: 0.9887\n",
            "Test accuracy: 0.9886999726295471\n",
            "[7 2 1 ... 4 5 6]\n",
            "[7 2 1 ... 4 5 6]\n",
            "Test f1 score: 0.988592613521846\n"
          ],
          "name": "stdout"
        }
      ]
    }
  ]
}