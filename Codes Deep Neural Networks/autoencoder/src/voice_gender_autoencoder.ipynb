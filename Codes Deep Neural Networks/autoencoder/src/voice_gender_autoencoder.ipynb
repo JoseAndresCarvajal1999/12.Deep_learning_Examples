{
  "nbformat": 4,
  "nbformat_minor": 5,
  "metadata": {
    "kernelspec": {
      "name": "python3",
      "display_name": "Python 3"
    },
    "colab": {
      "name": "voice-gender-autoencoder.ipynb",
      "provenance": [],
      "collapsed_sections": [],
      "toc_visible": true,
      "include_colab_link": true
    },
    "language_info": {
      "name": "python"
    }
  },
  "cells": [
    {
      "cell_type": "markdown",
      "metadata": {
        "id": "view-in-github",
        "colab_type": "text"
      },
      "source": [
        "<a href=\"https://colab.research.google.com/github/dromero1/voice-gender-recognition-autoencoder/blob/main/src/voice_gender_autoencoder.ipynb\" target=\"_parent\"><img src=\"https://colab.research.google.com/assets/colab-badge.svg\" alt=\"Open In Colab\"/></a>"
      ]
    },
    {
      "cell_type": "markdown",
      "metadata": {
        "id": "heavy-employment"
      },
      "source": [
        "# Voice Gender Dimensionality Reduction (Autoencoder)"
      ],
      "id": "heavy-employment"
    },
    {
      "cell_type": "code",
      "metadata": {
        "id": "internal-ranch"
      },
      "source": [
        "%matplotlib inline"
      ],
      "id": "internal-ranch",
      "execution_count": 1,
      "outputs": []
    },
    {
      "cell_type": "markdown",
      "metadata": {
        "id": "_ztQajHN_ZWr"
      },
      "source": [
        "*Mount drive*"
      ],
      "id": "_ztQajHN_ZWr"
    },
    {
      "cell_type": "code",
      "metadata": {
        "colab": {
          "base_uri": "https://localhost:8080/"
        },
        "id": "CA9R8dio_XYt",
        "outputId": "cf54a3b0-c1c8-4242-bcf2-7fb8cb3ae0ac"
      },
      "source": [
        "from google.colab import drive\n",
        "drive.mount('/content/drive/', force_remount=True)"
      ],
      "id": "CA9R8dio_XYt",
      "execution_count": 2,
      "outputs": [
        {
          "output_type": "stream",
          "text": [
            "Mounted at /content/drive/\n"
          ],
          "name": "stdout"
        }
      ]
    },
    {
      "cell_type": "markdown",
      "metadata": {
        "id": "determined-chess"
      },
      "source": [
        "*Import libraries*"
      ],
      "id": "determined-chess"
    },
    {
      "cell_type": "code",
      "metadata": {
        "id": "regulation-split"
      },
      "source": [
        "import numpy as np\n",
        "import pandas as pd\n",
        "import matplotlib.pyplot as plt\n",
        "import warnings as wa\n",
        "from sklearn.model_selection import train_test_split\n",
        "from sklearn.preprocessing import MinMaxScaler\n",
        "from drive.MyDrive.modules.scratch.mlp import MultilayerPerceptron\n",
        "from drive.MyDrive.modules.scratch.activation_function import sigmoid"
      ],
      "id": "regulation-split",
      "execution_count": 3,
      "outputs": []
    },
    {
      "cell_type": "markdown",
      "metadata": {
        "id": "southeast-protein"
      },
      "source": [
        "*Paths*"
      ],
      "id": "southeast-protein"
    },
    {
      "cell_type": "code",
      "metadata": {
        "id": "experimental-cowboy"
      },
      "source": [
        "data_path = 'drive/MyDrive/voice_gender_recognition/data/'\n",
        "figs_path = 'drive/MyDrive/voice_gender_recognition/figs/'"
      ],
      "id": "experimental-cowboy",
      "execution_count": 4,
      "outputs": []
    },
    {
      "cell_type": "markdown",
      "metadata": {
        "id": "weekly-identification"
      },
      "source": [
        "*Global parameters*"
      ],
      "id": "weekly-identification"
    },
    {
      "cell_type": "code",
      "metadata": {
        "id": "continent-grill"
      },
      "source": [
        "dim = 10"
      ],
      "id": "continent-grill",
      "execution_count": 5,
      "outputs": []
    },
    {
      "cell_type": "markdown",
      "metadata": {
        "id": "proved-lincoln"
      },
      "source": [
        "*Filter warnings*"
      ],
      "id": "proved-lincoln"
    },
    {
      "cell_type": "code",
      "metadata": {
        "id": "aggressive-myrtle"
      },
      "source": [
        "wa.filterwarnings('ignore') "
      ],
      "id": "aggressive-myrtle",
      "execution_count": 6,
      "outputs": []
    },
    {
      "cell_type": "markdown",
      "metadata": {
        "id": "dressed-luther"
      },
      "source": [
        "## 1. Preprocessing"
      ],
      "id": "dressed-luther"
    },
    {
      "cell_type": "markdown",
      "metadata": {
        "id": "valuable-debut"
      },
      "source": [
        "*Read dataset*"
      ],
      "id": "valuable-debut"
    },
    {
      "cell_type": "code",
      "metadata": {
        "id": "rational-aside"
      },
      "source": [
        "dataset = pd.read_csv(data_path + 'voice.csv')"
      ],
      "id": "rational-aside",
      "execution_count": 7,
      "outputs": []
    },
    {
      "cell_type": "markdown",
      "metadata": {
        "id": "ideal-alert"
      },
      "source": [
        "*Feature matrix*"
      ],
      "id": "ideal-alert"
    },
    {
      "cell_type": "code",
      "metadata": {
        "id": "wired-manitoba"
      },
      "source": [
        "features = dataset.iloc[:, :-1].values"
      ],
      "id": "wired-manitoba",
      "execution_count": 8,
      "outputs": []
    },
    {
      "cell_type": "markdown",
      "metadata": {
        "id": "proprietary-bracelet"
      },
      "source": [
        "*Label vector*"
      ],
      "id": "proprietary-bracelet"
    },
    {
      "cell_type": "code",
      "metadata": {
        "id": "appropriate-anaheim"
      },
      "source": [
        "labels = dataset.iloc[:, -1].values"
      ],
      "id": "appropriate-anaheim",
      "execution_count": 9,
      "outputs": []
    },
    {
      "cell_type": "markdown",
      "metadata": {
        "id": "brazilian-uniform"
      },
      "source": [
        "## 2. Learning"
      ],
      "id": "brazilian-uniform"
    },
    {
      "cell_type": "markdown",
      "metadata": {
        "id": "outside-superintendent"
      },
      "source": [
        "*Split in train and rest*"
      ],
      "id": "outside-superintendent"
    },
    {
      "cell_type": "code",
      "metadata": {
        "id": "sudden-switch"
      },
      "source": [
        "features_train, features_rest, labels_train, labels_rest = train_test_split(features, labels, test_size=0.40)"
      ],
      "id": "sudden-switch",
      "execution_count": 10,
      "outputs": []
    },
    {
      "cell_type": "markdown",
      "metadata": {
        "id": "personal-familiar"
      },
      "source": [
        "*Split in validation and test*"
      ],
      "id": "personal-familiar"
    },
    {
      "cell_type": "code",
      "metadata": {
        "id": "dated-blame"
      },
      "source": [
        "features_val, features_test, labels_val, labels_test = train_test_split(features, labels, test_size=0.50)"
      ],
      "id": "dated-blame",
      "execution_count": 11,
      "outputs": []
    },
    {
      "cell_type": "markdown",
      "metadata": {
        "id": "hydraulic-growth"
      },
      "source": [
        "*Scale features*"
      ],
      "id": "hydraulic-growth"
    },
    {
      "cell_type": "code",
      "metadata": {
        "id": "senior-paintball"
      },
      "source": [
        "sc = MinMaxScaler()\n",
        "features_train = sc.fit_transform(features_train)\n",
        "features_val = sc.transform(features_val)\n",
        "features_test = sc.transform(features_test)"
      ],
      "id": "senior-paintball",
      "execution_count": 12,
      "outputs": []
    },
    {
      "cell_type": "markdown",
      "metadata": {
        "id": "latter-better"
      },
      "source": [
        "*Select architecture*"
      ],
      "id": "latter-better"
    },
    {
      "cell_type": "code",
      "metadata": {
        "colab": {
          "base_uri": "https://localhost:8080/"
        },
        "id": "entitled-apparel",
        "outputId": "2db500eb-7938-43a6-9ccc-67fabb311aaa"
      },
      "source": [
        "architecture = [features.shape[1], dim, features.shape[1]]\n",
        "architecture"
      ],
      "id": "entitled-apparel",
      "execution_count": 13,
      "outputs": [
        {
          "output_type": "execute_result",
          "data": {
            "text/plain": [
              "[20, 10, 20]"
            ]
          },
          "metadata": {
            "tags": []
          },
          "execution_count": 13
        }
      ]
    },
    {
      "cell_type": "markdown",
      "metadata": {
        "id": "occupied-violation"
      },
      "source": [
        "*Select activation functions*"
      ],
      "id": "occupied-violation"
    },
    {
      "cell_type": "code",
      "metadata": {
        "id": "complete-composition"
      },
      "source": [
        "activations = [sigmoid for _ in range(len(architecture) - 1)]"
      ],
      "id": "complete-composition",
      "execution_count": 14,
      "outputs": []
    },
    {
      "cell_type": "markdown",
      "metadata": {
        "id": "filled-desert"
      },
      "source": [
        "*Train model*"
      ],
      "id": "filled-desert"
    },
    {
      "cell_type": "code",
      "metadata": {
        "id": "alternative-brooks"
      },
      "source": [
        "brain = MultilayerPerceptron(architecture, activations, learning_rate=0.9)\n",
        "network_avg_errors, gradients_sums = brain.fit(features_train, features_train, epochs=50)"
      ],
      "id": "alternative-brooks",
      "execution_count": 15,
      "outputs": []
    },
    {
      "cell_type": "markdown",
      "metadata": {
        "id": "cutting-symbol"
      },
      "source": [
        "## 3. Visualization"
      ],
      "id": "cutting-symbol"
    },
    {
      "cell_type": "markdown",
      "metadata": {
        "id": "descending-european"
      },
      "source": [
        "*Render epochs*"
      ],
      "id": "descending-european"
    },
    {
      "cell_type": "code",
      "metadata": {
        "id": "working-convention"
      },
      "source": [
        "epochs = np.linspace(1, network_avg_errors.shape[0], network_avg_errors.shape[0])"
      ],
      "id": "working-convention",
      "execution_count": 16,
      "outputs": []
    },
    {
      "cell_type": "markdown",
      "metadata": {
        "id": "complimentary-power"
      },
      "source": [
        "*Plot training curve*"
      ],
      "id": "complimentary-power"
    },
    {
      "cell_type": "code",
      "metadata": {
        "colab": {
          "base_uri": "https://localhost:8080/",
          "height": 297
        },
        "id": "illegal-procedure",
        "outputId": "6378b2c2-adce-4bfd-b8c3-33f5e4f35ae1"
      },
      "source": [
        "plt.figure()\n",
        "plt.plot(epochs, network_avg_errors, linewidth=4)\n",
        "plt.ylabel(r'$\\xi_{av}$')\n",
        "plt.xlabel('epoch')\n",
        "plt.title('Training Curve for L = {}'.format(architecture))\n",
        "plt.tight_layout()\n",
        "plt.savefig(figs_path + 'autoencoder_training_curve.pdf')\n",
        "plt.show()"
      ],
      "id": "illegal-procedure",
      "execution_count": 17,
      "outputs": [
        {
          "output_type": "display_data",
          "data": {
            "image/png": "[encoded data removed]",
            "text/plain": [
              "<Figure size 432x288 with 1 Axes>"
            ]
          },
          "metadata": {
            "tags": [],
            "needs_background": "light"
          }
        }
      ]
    },
    {
      "cell_type": "markdown",
      "metadata": {
        "id": "centered-block"
      },
      "source": [
        "*Plot gradients' curves*"
      ],
      "id": "centered-block"
    },
    {
      "cell_type": "code",
      "metadata": {
        "colab": {
          "base_uri": "https://localhost:8080/",
          "height": 297
        },
        "id": "driving-syndrome",
        "outputId": "a1cf4d57-ceb1-4f42-b7a4-36bfbf3d3ba8"
      },
      "source": [
        "plt.figure()\n",
        "for layer in range(gradients_sums.shape[1]):\n",
        "    plt.plot(epochs, gradients_sums[:, layer], linewidth=4, label='$l$ = {}'.format(layer + 1))\n",
        "plt.ylabel(r'$\\sum\\delta^l$')\n",
        "plt.xlabel('epoch')\n",
        "plt.title(\"Local Gradients' Curves for L = {}\".format(architecture))\n",
        "plt.tight_layout()\n",
        "plt.legend()\n",
        "plt.savefig(figs_path + 'autoencoder_local_gradients.pdf')\n",
        "plt.show()"
      ],
      "id": "driving-syndrome",
      "execution_count": 18,
      "outputs": [
        {
          "output_type": "display_data",
          "data": {
            "image/png": "[encoded data removed]",
            "text/plain": [
              "<Figure size 432x288 with 1 Axes>"
            ]
          },
          "metadata": {
            "tags": [],
            "needs_background": "light"
          }
        }
      ]
    },
    {
      "cell_type": "markdown",
      "metadata": {
        "id": "resistant-craps"
      },
      "source": [
        "*Predict labels*"
      ],
      "id": "resistant-craps"
    },
    {
      "cell_type": "code",
      "metadata": {
        "id": "industrial-indie"
      },
      "source": [
        "labels_train_pred = brain.predict(features_train)\n",
        "labels_val_pred = brain.predict(features_val)\n",
        "labels_test_pred = brain.predict(features_test)"
      ],
      "id": "industrial-indie",
      "execution_count": 19,
      "outputs": []
    },
    {
      "cell_type": "markdown",
      "metadata": {
        "id": "wireless-freeze"
      },
      "source": [
        "## 4. Dimensionality reduction"
      ],
      "id": "wireless-freeze"
    },
    {
      "cell_type": "markdown",
      "metadata": {
        "id": "progressive-partnership"
      },
      "source": [
        "*Initialize reduced feature matrix*"
      ],
      "id": "progressive-partnership"
    },
    {
      "cell_type": "code",
      "metadata": {
        "id": "bottom-leather"
      },
      "source": [
        "reduced_features = np.zeros(shape=(features.shape[0], dim))"
      ],
      "id": "bottom-leather",
      "execution_count": 20,
      "outputs": []
    },
    {
      "cell_type": "markdown",
      "metadata": {
        "id": "touched-strength"
      },
      "source": [
        "*Extract encoding weights*"
      ],
      "id": "touched-strength"
    },
    {
      "cell_type": "code",
      "metadata": {
        "id": "limited-expert"
      },
      "source": [
        "encoding_weights = brain.weights[0]"
      ],
      "id": "limited-expert",
      "execution_count": 21,
      "outputs": []
    },
    {
      "cell_type": "markdown",
      "metadata": {
        "id": "proprietary-italic"
      },
      "source": [
        "*Remove bias weights*"
      ],
      "id": "proprietary-italic"
    },
    {
      "cell_type": "code",
      "metadata": {
        "id": "convinced-worcester"
      },
      "source": [
        "encoding_weights = encoding_weights[:features.shape[1]]"
      ],
      "id": "convinced-worcester",
      "execution_count": 22,
      "outputs": []
    },
    {
      "cell_type": "markdown",
      "metadata": {
        "id": "built-suspension"
      },
      "source": [
        "*Compute local fields*"
      ],
      "id": "built-suspension"
    },
    {
      "cell_type": "code",
      "metadata": {
        "id": "unauthorized-thickness"
      },
      "source": [
        "local_fields = np.matmul(features, encoding_weights)"
      ],
      "id": "unauthorized-thickness",
      "execution_count": 23,
      "outputs": []
    },
    {
      "cell_type": "markdown",
      "metadata": {
        "id": "generous-italian"
      },
      "source": [
        "*Apply activation function*"
      ],
      "id": "generous-italian"
    },
    {
      "cell_type": "code",
      "metadata": {
        "id": "antique-doctrine"
      },
      "source": [
        "eval_activation, _ = activations[0]()\n",
        "for idx, local_field in enumerate(local_fields):\n",
        "    instance = eval_activation(local_field)\n",
        "    reduced_features[idx, :] = instance"
      ],
      "id": "antique-doctrine",
      "execution_count": 24,
      "outputs": []
    },
    {
      "cell_type": "markdown",
      "metadata": {
        "id": "finite-recycling"
      },
      "source": [
        "*Build reduced dataset*"
      ],
      "id": "finite-recycling"
    },
    {
      "cell_type": "code",
      "metadata": {
        "id": "collected-williams"
      },
      "source": [
        "reduced_dataset = pd.DataFrame(reduced_features)\n",
        "reduced_dataset['label'] = labels"
      ],
      "id": "collected-williams",
      "execution_count": 25,
      "outputs": []
    },
    {
      "cell_type": "markdown",
      "metadata": {
        "id": "palestinian-eleven"
      },
      "source": [
        "*Persist reduced dataset*"
      ],
      "id": "palestinian-eleven"
    },
    {
      "cell_type": "code",
      "metadata": {
        "id": "meaning-concentration"
      },
      "source": [
        "reduced_dataset.to_csv(data_path + 'reduced_voice.csv')"
      ],
      "id": "meaning-concentration",
      "execution_count": 26,
      "outputs": []
    }
  ]
}